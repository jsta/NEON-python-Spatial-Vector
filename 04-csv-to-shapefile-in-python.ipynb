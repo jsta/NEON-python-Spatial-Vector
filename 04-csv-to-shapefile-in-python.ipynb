{
 "cells": [
  {
   "cell_type": "code",
   "execution_count": 1,
   "metadata": {
    "collapsed": false
   },
   "outputs": [
    {
     "data": {
      "image/png": "[encoded data removed]",
      "text/plain": [
       "<matplotlib.figure.Figure at 0x7fb56d86e898>"
      ]
     },
     "metadata": {},
     "output_type": "display_data"
    }
   ],
   "source": [
    "%matplotlib inline\n",
    "\n",
    "import pandas as pd\n",
    "import geopandas as gpd\n",
    "from shapely.geometry import Point\n",
    "import matplotlib.pyplot as plt\n",
    "\n",
    "harv_plotloc_csv = pd.read_csv('_data-jsta/HARV/HARV_PlotLocations.csv')\n",
    "harv_plotloc_csv.head(5)\n",
    "harv_plotloc_csv.axes\n",
    "\n",
    "harv_plotloc_csv['easting'].head(6)\n",
    "harv_plotloc_csv['northing'].head(6)\n",
    "\n",
    "harv_plotloc_csv['geodeticDa'].head(6)\n",
    "harv_plotloc_csv['utmZone'].head(6)\n",
    "\n",
    "lines_harv = gpd.read_file('_data-jsta/HARV/HARV_roads.shp')\n",
    "lines_harv.crs\n",
    "\n",
    "crs = lines_harv.crs\n",
    "geometry = [Point(xy) for xy in zip(harv_plotloc_csv.easting, harv_plotloc_csv.northing)]\n",
    "harv_plotloc_geo = gpd.GeoDataFrame(harv_plotloc_csv, crs = crs, geometry = geometry)\n",
    "\n",
    "f, ax = plt.subplots(1)\n",
    "aoi_boundary_harv = gpd.read_file('_data-jsta/HARV/HarClip_UTMZ18.shp')\n",
    "\n",
    "for poly in aoi_boundary_harv['geometry']:\n",
    "\tgpd.plotting.plot_multipolygon(ax, poly, alpha = 0, linewidth = 4)\n",
    "\n",
    "for point in harv_plotloc_geo['geometry']:\n",
    " \tgpd.plotting.plot_point(ax, point, color = 'purple')\n",
    "\n",
    "plt.show()\n"
   ]
  },
  {
   "cell_type": "code",
   "execution_count": null,
   "metadata": {
    "collapsed": true
   },
   "outputs": [],
   "source": []
  }
 ],
 "metadata": {
  "kernelspec": {
   "display_name": "Python 3",
   "language": "python",
   "name": "python3"
  },
  "language_info": {
   "codemirror_mode": {
    "name": "ipython",
    "version": 3
   },
   "file_extension": ".py",
   "mimetype": "text/x-python",
   "name": "python",
   "nbconvert_exporter": "python",
   "pygments_lexer": "ipython3",
   "version": "3.4.4"
  }
 },
 "nbformat": 4,
 "nbformat_minor": 0
}
