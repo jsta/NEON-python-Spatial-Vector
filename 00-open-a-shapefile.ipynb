{
 "cells": [
  {
   "cell_type": "code",
   "execution_count": 1,
   "metadata": {
    "collapsed": true
   },
   "outputs": [],
   "source": [
    "%matplotlib inline\n",
    "\n",
    "import geopandas as gpd\n",
    "import matplotlib.pyplot as plt\n",
    "import rasterio\n",
    "import numpy as np"
   ]
  },
  {
   "cell_type": "markdown",
   "metadata": {},
   "source": [
    "This is a test markdown line"
   ]
  },
  {
   "cell_type": "code",
   "execution_count": 2,
   "metadata": {
    "collapsed": false
   },
   "outputs": [
    {
     "name": "stdout",
     "output_type": "stream",
     "text": [
      "0    Polygon\n",
      "dtype: object\n",
      "{'init': 'epsg:32618'}\n",
      "            minx          miny           maxx          maxy\n",
      "0  732128.016925  4.713209e+06  732251.102892  4.713359e+06\n",
      "                                            geometry  id\n",
      "0  POLYGON ((732128.016925 4713359.17112, 732251....   1\n"
     ]
    },
    {
     "data": {
      "image/png": "[encoded data removed]",
      "text/plain": [
       "<matplotlib.figure.Figure at 0x7ff9f370ba90>"
      ]
     },
     "metadata": {},
     "output_type": "display_data"
    }
   ],
   "source": [
    "poly_harv = gpd.read_file('_data-jsta/HARV/HarClip_UTMZ18.shp')\n",
    "\n",
    "print(poly_harv.geom_type)\n",
    "print(poly_harv.crs)\n",
    "print(poly_harv.bounds)\n",
    "\n",
    "print(poly_harv.head())\n",
    "\n",
    "poly_harv.plot(cmap = 'Greens')\n",
    "plt.suptitle(\"NEON Harvard Forest\\nField Site\")\n",
    "plt.show()\n"
   ]
  },
  {
   "cell_type": "markdown",
   "metadata": {},
   "source": [
    "# "
   ]
  }
 ],
 "metadata": {
  "kernelspec": {
   "display_name": "Python 3",
   "language": "python",
   "name": "python3"
  },
  "language_info": {
   "codemirror_mode": {
    "name": "ipython",
    "version": 3
   },
   "file_extension": ".py",
   "mimetype": "text/x-python",
   "name": "python",
   "nbconvert_exporter": "python",
   "pygments_lexer": "ipython3",
   "version": "3.4.4"
  }
 },
 "nbformat": 4,
 "nbformat_minor": 0
}
